{
 "cells": [
  {
   "cell_type": "code",
   "execution_count": 7,
   "metadata": {},
   "outputs": [
    {
     "name": "stdout",
     "output_type": "stream",
     "text": [
      "['/Users/rishit/Documents/VIT/SEM 6/FL and ES/1.1. CLASS-ES.pdf', '/Users/rishit/Documents/VIT/SEM 6/FL and ES/1.2. CLASS-ES.pdf', '/Users/rishit/Documents/VIT/SEM 6/FL and ES/1.3. CLASS-ES.pdf', '/Users/rishit/Documents/VIT/SEM 6/FL and ES/1.4 CLASS - ES TYPES (Page 1to 4).pdf', '/Users/rishit/Documents/VIT/SEM 6/FL and ES/2.1. CLASS--ES.pdf', '/Users/rishit/Documents/VIT/SEM 6/FL and ES/2.2. CLASS-ES.pdf', '/Users/rishit/Documents/VIT/SEM 6/FL and ES/2.3. CLASS-ES.pdf', '/Users/rishit/Documents/VIT/SEM 6/FL and ES/2.4 ES - Page-41-   Frame-based Expert system Devlopment.pdf', '/Users/rishit/Documents/VIT/SEM 6/FL and ES/3.1. CLASS--ES.pdf', '/Users/rishit/Documents/VIT/SEM 6/FL and ES/3.1.1 CLASS--Refer.pdf', '/Users/rishit/Documents/VIT/SEM 6/FL and ES/3.2. CLASS-ES.pdf', '/Users/rishit/Documents/VIT/SEM 6/FL and ES/3.2.1 BPN.pdf', '/Users/rishit/Documents/VIT/SEM 6/FL and ES/3.2.2 CLASS-- CHECK ONLY-perceptron learning algorithm.pdf']\n",
      "PDFs combined successfully.\n"
     ]
    }
   ],
   "source": [
    "import os\n",
    "import PyPDF2\n",
    "\n",
    "def combine_pdfs(input_paths, output_path):\n",
    "    pdf_writer = PyPDF2.PdfWriter()\n",
    "    \n",
    "    for path in input_paths:\n",
    "        pdf_reader = PyPDF2.PdfReader(path)\n",
    "        for page in pdf_reader.pages:\n",
    "            pdf_writer.add_page(page)\n",
    "    \n",
    "    with open(output_path, 'wb') as output_pdf:\n",
    "        pdf_writer.write(output_pdf)\n",
    "\n",
    "\n",
    "input_folder = \"/Users/rishit/Documents/VIT/SEM 6/FL and ES\"  # Path to the folder containing PDF files\n",
    "output_path = \"combined.pdf\"  # Output PDF file path\n",
    "\n",
    "# Get all PDF files in the input folder\n",
    "input_paths = [os.path.join(input_folder, file) for file in os.listdir(input_folder) if file.endswith('.pdf')]\n",
    "input_paths.sort()\n",
    "print(input_paths)\n",
    "\n",
    "combine_pdfs(input_paths, output_path)\n",
    "print(\"PDFs combined successfully.\")\n",
    "\n"
   ]
  }
 ],
 "metadata": {
  "kernelspec": {
   "display_name": "Python 3",
   "language": "python",
   "name": "python3"
  },
  "language_info": {
   "codemirror_mode": {
    "name": "ipython",
    "version": 3
   },
   "file_extension": ".py",
   "mimetype": "text/x-python",
   "name": "python",
   "nbconvert_exporter": "python",
   "pygments_lexer": "ipython3",
   "version": "3.11.7"
  }
 },
 "nbformat": 4,
 "nbformat_minor": 2
}
