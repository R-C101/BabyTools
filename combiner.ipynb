{
 "cells": [
  {
   "cell_type": "code",
   "execution_count": 1,
   "metadata": {},
   "outputs": [
    {
     "name": "stdout",
     "output_type": "stream",
     "text": [
      "['/Users/rishit/Documents/VIT/SEM 6/nptel assignments/w1.pdf', '/Users/rishit/Documents/VIT/SEM 6/nptel assignments/w10.pdf', '/Users/rishit/Documents/VIT/SEM 6/nptel assignments/w11.pdf', '/Users/rishit/Documents/VIT/SEM 6/nptel assignments/w2.pdf', '/Users/rishit/Documents/VIT/SEM 6/nptel assignments/w3.pdf', '/Users/rishit/Documents/VIT/SEM 6/nptel assignments/w4.pdf', '/Users/rishit/Documents/VIT/SEM 6/nptel assignments/w5.pdf', '/Users/rishit/Documents/VIT/SEM 6/nptel assignments/w6.pdf', '/Users/rishit/Documents/VIT/SEM 6/nptel assignments/w7.pdf', '/Users/rishit/Documents/VIT/SEM 6/nptel assignments/w8.pdf', '/Users/rishit/Documents/VIT/SEM 6/nptel assignments/w9.pdf']\n",
      "PDFs combined successfully.\n"
     ]
    }
   ],
   "source": [
    "import os\n",
    "import PyPDF2\n",
    "\n",
    "def combine_pdfs(input_paths, output_path):\n",
    "    pdf_writer = PyPDF2.PdfWriter()\n",
    "    \n",
    "    for path in input_paths:\n",
    "        pdf_reader = PyPDF2.PdfReader(path)\n",
    "        for page in pdf_reader.pages:\n",
    "            pdf_writer.add_page(page)\n",
    "    \n",
    "    with open(output_path, 'wb') as output_pdf:\n",
    "        pdf_writer.write(output_pdf)\n",
    "\n",
    "\n",
    "input_folder = \"/Users/rishit/Documents/VIT/SEM 6/nptel assignments\"  # Path to the folder containing PDF files\n",
    "output_path = \"/Users/rishit/Documents/VIT/SEM 6/nptel assignments/combined.pdf\"  # Output PDF file path\n",
    "\n",
    "# Get all PDF files in the input folder\n",
    "input_paths = [os.path.join(input_folder, file) for file in os.listdir(input_folder) if file.endswith('.pdf')]\n",
    "input_paths.sort()\n",
    "print(input_paths)\n",
    "\n",
    "combine_pdfs(input_paths, output_path)\n",
    "print(\"PDFs combined successfully.\")\n",
    "\n"
   ]
  },
  {
   "cell_type": "code",
   "execution_count": 1,
   "metadata": {},
   "outputs": [
    {
     "name": "stdout",
     "output_type": "stream",
     "text": [
      "VITCSE\n",
      "Students\n",
      "\n"
     ]
    },
    {
     "name": "stdout",
     "output_type": "stream",
     "text": [
      "CSEVIT\n",
      "\n",
      "CSE\n",
      "VIT\n",
      "CSE\n",
      "VIT\n",
      "CSE\n",
      "VIT\n"
     ]
    }
   ],
   "source": [
    "from threading import *\n",
    "\n",
    "from time import sleep\n",
    "\n",
    "class VIT(Thread):\n",
    "\n",
    "    def run(self):\n",
    "\n",
    "        for i in range(5):\n",
    "\n",
    "            print(\"VIT\")\n",
    "\n",
    "            sleep(1)\n",
    "\n",
    "class CSE(Thread):\n",
    "\n",
    "    def run(self):\n",
    "\n",
    "        for i in range(5):\n",
    "\n",
    "            print(\"CSE\")\n",
    "\n",
    "            sleep(1)\n",
    "\n",
    "t1=VIT()\n",
    "\n",
    "t2=CSE()\n",
    "\n",
    "sleep(0.2)\n",
    "\n",
    "t1.start()\n",
    "\n",
    "t2.start()\n",
    "\n",
    "print(\"Students\")"
   ]
  }
 ],
 "metadata": {
  "kernelspec": {
   "display_name": "Python 3",
   "language": "python",
   "name": "python3"
  },
  "language_info": {
   "codemirror_mode": {
    "name": "ipython",
    "version": 3
   },
   "file_extension": ".py",
   "mimetype": "text/x-python",
   "name": "python",
   "nbconvert_exporter": "python",
   "pygments_lexer": "ipython3",
   "version": "3.11.7"
  }
 },
 "nbformat": 4,
 "nbformat_minor": 2
}
